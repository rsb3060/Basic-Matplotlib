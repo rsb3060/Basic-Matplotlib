{
 "cells": [
  {
   "cell_type": "code",
   "execution_count": 3,
   "metadata": {
    "collapsed": false
   },
   "outputs": [],
   "source": [
    "import matplotlib.pyplot as plt\n",
    "from mpl_toolkits.mplot3d import axes3d\n",
    "import numpy as np\n",
    "from matplotlib import style\n",
    "mstyle=style.available\n",
    "style.use(mstyle[5])"
   ]
  },
  {
   "cell_type": "code",
   "execution_count": 15,
   "metadata": {
    "collapsed": false
   },
   "outputs": [],
   "source": [
    "#Getting random data\n",
    "x=np.int_(np.random.rand(10)*10)\n",
    "y=np.int_(np.random.rand(10)*10)\n",
    "z=np.int_(np.random.rand(10)*10)\n",
    "x2=np.int_(np.random.rand(10)*-10)\n",
    "y2=np.int_(np.random.rand(10)*-10)\n",
    "z2=np.int_(np.random.rand(10)*10)\n",
    "x3=np.int_(np.random.rand(10)*10)\n",
    "y3=np.int_(np.random.rand(10)*10)\n",
    "z3=np.int_(np.random.rand(10)*10)\n",
    "#print x\n",
    "#print y\n",
    "#print z"
   ]
  },
  {
   "cell_type": "code",
   "execution_count": 17,
   "metadata": {
    "collapsed": false
   },
   "outputs": [],
   "source": [
    "fig=plt.figure()\n",
    "ax1=fig.add_subplot(111,projection='3d')\n",
    "ax1.plot(x,y,z,'.')\n",
    "#ax1.plot(x,y,z,'-',color=\"r\")\n",
    "plt.show()"
   ]
  },
  {
   "cell_type": "markdown",
   "metadata": {},
   "source": [
    "# Scatter plor wire frame"
   ]
  },
  {
   "cell_type": "code",
   "execution_count": 13,
   "metadata": {
    "collapsed": false
   },
   "outputs": [],
   "source": [
    "fig=plt.figure()\n",
    "ax1=fig.add_subplot(111,projection='3d')\n",
    "ax1.plot_wireframe(x,y,z)\n",
    "ax1.set_xlabel('x axis')\n",
    "ax1.set_ylabel('y axis')\n",
    "ax1.set_zlabel('z axis')\n",
    "plt.show()"
   ]
  },
  {
   "cell_type": "code",
   "execution_count": 14,
   "metadata": {
    "collapsed": false
   },
   "outputs": [
    {
     "ename": "ValueError",
     "evalue": "Arguments 'xs' and 'ys' must be of same size.",
     "output_type": "error",
     "traceback": [
      "\u001b[1;31m---------------------------------------------------------------------------\u001b[0m",
      "\u001b[1;31mValueError\u001b[0m                                Traceback (most recent call last)",
      "\u001b[1;32m<ipython-input-14-d3f3f1ebaf50>\u001b[0m in \u001b[0;36m<module>\u001b[1;34m()\u001b[0m\n\u001b[0;32m      2\u001b[0m \u001b[0max1\u001b[0m\u001b[1;33m=\u001b[0m\u001b[0mfig\u001b[0m\u001b[1;33m.\u001b[0m\u001b[0madd_subplot\u001b[0m\u001b[1;33m(\u001b[0m\u001b[1;36m111\u001b[0m\u001b[1;33m,\u001b[0m\u001b[0mprojection\u001b[0m\u001b[1;33m=\u001b[0m\u001b[1;34m'3d'\u001b[0m\u001b[1;33m)\u001b[0m\u001b[1;33m\u001b[0m\u001b[0m\n\u001b[0;32m      3\u001b[0m \u001b[0max1\u001b[0m\u001b[1;33m.\u001b[0m\u001b[0mplot_wireframe\u001b[0m\u001b[1;33m(\u001b[0m\u001b[0mx\u001b[0m\u001b[1;33m,\u001b[0m\u001b[0my\u001b[0m\u001b[1;33m,\u001b[0m\u001b[0mz\u001b[0m\u001b[1;33m)\u001b[0m\u001b[1;33m\u001b[0m\u001b[0m\n\u001b[1;32m----> 4\u001b[1;33m \u001b[0max1\u001b[0m\u001b[1;33m.\u001b[0m\u001b[0mscatter3D\u001b[0m\u001b[1;33m(\u001b[0m\u001b[0mx\u001b[0m\u001b[1;33m,\u001b[0m\u001b[0my\u001b[0m\u001b[1;33m,\u001b[0m\u001b[0mz\u001b[0m\u001b[1;33m,\u001b[0m\u001b[0mc\u001b[0m\u001b[1;33m=\u001b[0m\u001b[1;34m\"g\"\u001b[0m\u001b[1;33m,\u001b[0m\u001b[0mmarker\u001b[0m\u001b[1;33m=\u001b[0m\u001b[1;34m'o'\u001b[0m\u001b[1;33m)\u001b[0m\u001b[1;33m\u001b[0m\u001b[0m\n\u001b[0m\u001b[0;32m      5\u001b[0m \u001b[0max1\u001b[0m\u001b[1;33m.\u001b[0m\u001b[0mscatter3D\u001b[0m\u001b[1;33m(\u001b[0m\u001b[0mx2\u001b[0m\u001b[1;33m,\u001b[0m\u001b[0my2\u001b[0m\u001b[1;33m,\u001b[0m\u001b[0mz2\u001b[0m\u001b[1;33m,\u001b[0m\u001b[0mc\u001b[0m\u001b[1;33m=\u001b[0m\u001b[1;34m\"r\"\u001b[0m\u001b[1;33m,\u001b[0m\u001b[0mmarker\u001b[0m\u001b[1;33m=\u001b[0m\u001b[1;34m'o'\u001b[0m\u001b[1;33m)\u001b[0m\u001b[1;33m\u001b[0m\u001b[0m\n\u001b[0;32m      6\u001b[0m \u001b[0mplt\u001b[0m\u001b[1;33m.\u001b[0m\u001b[0mshow\u001b[0m\u001b[1;33m(\u001b[0m\u001b[1;33m)\u001b[0m\u001b[1;33m\u001b[0m\u001b[0m\n",
      "\u001b[1;32mC:\\Users\\RSB\\Anaconda2\\envs\\dato-env\\lib\\site-packages\\mpl_toolkits\\mplot3d\\axes3d.pyc\u001b[0m in \u001b[0;36mscatter\u001b[1;34m(self, xs, ys, zs, zdir, s, c, depthshade, *args, **kwargs)\u001b[0m\n\u001b[0;32m   2253\u001b[0m         \u001b[0mzs\u001b[0m \u001b[1;33m=\u001b[0m \u001b[0mnp\u001b[0m\u001b[1;33m.\u001b[0m\u001b[0mma\u001b[0m\u001b[1;33m.\u001b[0m\u001b[0mravel\u001b[0m\u001b[1;33m(\u001b[0m\u001b[0mzs\u001b[0m\u001b[1;33m)\u001b[0m\u001b[1;33m\u001b[0m\u001b[0m\n\u001b[0;32m   2254\u001b[0m         \u001b[1;32mif\u001b[0m \u001b[0mxs\u001b[0m\u001b[1;33m.\u001b[0m\u001b[0msize\u001b[0m \u001b[1;33m!=\u001b[0m \u001b[0mys\u001b[0m\u001b[1;33m.\u001b[0m\u001b[0msize\u001b[0m\u001b[1;33m:\u001b[0m\u001b[1;33m\u001b[0m\u001b[0m\n\u001b[1;32m-> 2255\u001b[1;33m             \u001b[1;32mraise\u001b[0m \u001b[0mValueError\u001b[0m\u001b[1;33m(\u001b[0m\u001b[1;34m\"Arguments 'xs' and 'ys' must be of same size.\"\u001b[0m\u001b[1;33m)\u001b[0m\u001b[1;33m\u001b[0m\u001b[0m\n\u001b[0m\u001b[0;32m   2256\u001b[0m         \u001b[1;32mif\u001b[0m \u001b[0mxs\u001b[0m\u001b[1;33m.\u001b[0m\u001b[0msize\u001b[0m \u001b[1;33m!=\u001b[0m \u001b[0mzs\u001b[0m\u001b[1;33m.\u001b[0m\u001b[0msize\u001b[0m\u001b[1;33m:\u001b[0m\u001b[1;33m\u001b[0m\u001b[0m\n\u001b[0;32m   2257\u001b[0m             \u001b[1;32mif\u001b[0m \u001b[0mzs\u001b[0m\u001b[1;33m.\u001b[0m\u001b[0msize\u001b[0m \u001b[1;33m==\u001b[0m \u001b[1;36m1\u001b[0m\u001b[1;33m:\u001b[0m\u001b[1;33m\u001b[0m\u001b[0m\n",
      "\u001b[1;31mValueError\u001b[0m: Arguments 'xs' and 'ys' must be of same size."
     ]
    }
   ],
   "source": [
    "fig=plt.figure()\n",
    "ax1=fig.add_subplot(111,projection='3d')\n",
    "ax1.plot_wireframe(x,y,z)\n",
    "ax1.scatter3D(x,y,z,c=\"g\",marker='o')\n",
    "ax1.scatter3D(x2,y2,z2,c=\"r\",marker='o')\n",
    "plt.show()"
   ]
  },
  {
   "cell_type": "markdown",
   "metadata": {},
   "source": [
    "# Bar Charts"
   ]
  },
  {
   "cell_type": "code",
   "execution_count": 19,
   "metadata": {
    "collapsed": false
   },
   "outputs": [],
   "source": [
    "style.use(mstyle[5])\n",
    "fig=plt.figure()\n",
    "ax1=fig.add_subplot(111,projection='3d')\n",
    "z3=np.zeros(10)#z3\n",
    "dx=np.ones(10)\n",
    "dy=np.ones(10)\n",
    "dz=[1,2,3,4,5,6,7,8,9,10]\n",
    "ax1.bar3d(x3,y3,z3,dx,dy,dz)#all z-axis value is zero but the height of bar given by dz (x3,y3,z3) are starting point of bars only\n",
    "#if z3 != zero then bar will be floating at different x value\n",
    "ax1.set_xlabel('x axis')\n",
    "ax1.set_ylabel('y axis')\n",
    "ax1.set_zlabel('z axis')\n",
    "plt.show()"
   ]
  },
  {
   "cell_type": "markdown",
   "metadata": {},
   "source": [
    "# More wire frame"
   ]
  },
  {
   "cell_type": "code",
   "execution_count": 18,
   "metadata": {
    "collapsed": false
   },
   "outputs": [
    {
     "ename": "SyntaxError",
     "evalue": "invalid syntax (<ipython-input-18-1848fd2019c0>, line 4)",
     "output_type": "error",
     "traceback": [
      "\u001b[1;36m  File \u001b[1;32m\"<ipython-input-18-1848fd2019c0>\"\u001b[1;36m, line \u001b[1;32m4\u001b[0m\n\u001b[1;33m    print len(x)\u001b[0m\n\u001b[1;37m            ^\u001b[0m\n\u001b[1;31mSyntaxError\u001b[0m\u001b[1;31m:\u001b[0m invalid syntax\n"
     ]
    }
   ],
   "source": [
    "fig=plt.figure()\n",
    "ax1=fig.add_subplot(111,projection='3d')\n",
    "x,y,z=axes3d.get_test_data()\n",
    "print len(x)\n",
    "ax1.plot_wireframe(x,y,z,rstride=5,cstride=5)\n",
    "#ax1.plot_wireframe(x[0:10],y[0:10],z[0:10])\n",
    "#ax1.plot_wireframe(x[0],y[0],z[0])\n",
    "ax1.set_xlabel('x axis')\n",
    "ax1.set_ylabel('y axis')\n",
    "ax1.set_zlabel('z axis')\n",
    "plt.show()"
   ]
  },
  {
   "cell_type": "code",
   "execution_count": 56,
   "metadata": {
    "collapsed": false
   },
   "outputs": [
    {
     "name": "stdout",
     "output_type": "stream",
     "text": [
      "C:\\Users\\RSB\\Anaconda2\\envs\\dato-env\\lib\\site-packages\\mpl_toolkits\\mplot3d\\axes3d.pyc\n"
     ]
    }
   ],
   "source": [
    "print (axes3d.__file__)"
   ]
  },
  {
   "cell_type": "code",
   "execution_count": 9,
   "metadata": {
    "collapsed": true
   },
   "outputs": [],
   "source": [
    "from __future__ import (absolute_import, division, print_function,\n",
    "                        unicode_literals)\n",
    "\n",
    "import six\n",
    "\n",
    "import numpy as np\n",
    "import matplotlib.pyplot as plt\n",
    "from matplotlib import colors\n",
    "\n",
    "\n",
    "colors_ = list(six.iteritems(colors.cnames))\n",
    "\n",
    "# Add the single letter colors.\n",
    "for name, rgb in six.iteritems(colors.ColorConverter.colors):\n",
    "    hex_ = colors.rgb2hex(rgb)\n",
    "    colors_.append((name, hex_))\n",
    "\n",
    "# Transform to hex color values.\n",
    "hex_ = [color[1] for color in colors_]\n",
    "# Get the rgb equivalent.\n",
    "rgb = [colors.hex2color(color) for color in hex_]\n",
    "# Get the hsv equivalent.\n",
    "hsv = [colors.rgb_to_hsv(color) for color in rgb]\n",
    "\n",
    "# Split the hsv values to sort.\n",
    "hue = [color[0] for color in hsv]\n",
    "sat = [color[1] for color in hsv]\n",
    "val = [color[2] for color in hsv]\n",
    "\n",
    "# Sort by hue, saturation and value.\n",
    "ind = np.lexsort((val, sat, hue))\n",
    "sorted_colors = [colors_[i] for i in ind]\n",
    "\n",
    "n = len(sorted_colors)\n",
    "ncols = 4\n",
    "nrows = int(np.ceil(1. * n / ncols))\n",
    "\n",
    "fig, ax = plt.subplots()\n",
    "\n",
    "X, Y = fig.get_dpi() * fig.get_size_inches()\n",
    "\n",
    "# row height\n",
    "h = Y / (nrows + 1)\n",
    "# col width\n",
    "w = X / ncols\n",
    "\n",
    "for i, (name, color) in enumerate(sorted_colors):\n",
    "    col = i % ncols\n",
    "    row = int(i / ncols)\n",
    "    y = Y - (row * h) - h\n",
    "\n",
    "    xi_line = w * (col + 0.05)\n",
    "    xf_line = w * (col + 0.25)\n",
    "    xi_text = w * (col + 0.3)\n",
    "\n",
    "    ax.text(xi_text, y, name, fontsize=(h * 0.8),\n",
    "            horizontalalignment='left',\n",
    "            verticalalignment='center')\n",
    "\n",
    "    # Add extra black line a little bit thicker to make\n",
    "    # clear colors more visible.\n",
    "    ax.hlines(y, xi_line, xf_line, color='black', linewidth=(h * 0.7))\n",
    "    ax.hlines(y + h * 0.1, xi_line, xf_line, color=color, linewidth=(h * 0.6))\n",
    "\n",
    "ax.set_xlim(0, X)\n",
    "ax.set_ylim(0, Y)\n",
    "ax.set_axis_off()\n",
    "\n",
    "fig.subplots_adjust(left=0, right=1,\n",
    "                    top=1, bottom=0,\n",
    "                    hspace=0, wspace=0)\n",
    "plt.show()"
   ]
  },
  {
   "cell_type": "code",
   "execution_count": null,
   "metadata": {
    "collapsed": true
   },
   "outputs": [],
   "source": []
  }
 ],
 "metadata": {
  "kernelspec": {
   "display_name": "Python 2",
   "language": "python",
   "name": "python2"
  },
  "language_info": {
   "codemirror_mode": {
    "name": "ipython",
    "version": 2
   },
   "file_extension": ".py",
   "mimetype": "text/x-python",
   "name": "python",
   "nbconvert_exporter": "python",
   "pygments_lexer": "ipython2",
   "version": "2.7.10"
  }
 },
 "nbformat": 4,
 "nbformat_minor": 0
}
