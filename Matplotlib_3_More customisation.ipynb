{
 "cells": [
  {
   "cell_type": "code",
   "execution_count": 2,
   "metadata": {
    "collapsed": true
   },
   "outputs": [],
   "source": [
    "import matplotlib.pyplot as plt\n",
    "import numpy as np\n",
    "import urllib\n",
    "import matplotlib.dates as mdates\n",
    "import time\n",
    "import datetime as dt "
   ]
  },
  {
   "cell_type": "code",
   "execution_count": 2,
   "metadata": {
    "collapsed": true
   },
   "outputs": [],
   "source": [
    "def graph_data(stock,time):\n",
    "    stock_price_url = 'http://chartapi.finance.yahoo.com/instrument/1.0/'+stock+'/chartdata;type=quote;range='+time+'/csv'\n",
    "\n",
    "    source_code = urllib.urlopen(stock_price_url).read().decode()\n",
    "\n",
    "    stock_data = []\n",
    "    split_source = source_code.split('\\n')\n",
    "\n",
    "    for line in split_source:\n",
    "        split_line = line.split(',')\n",
    "        if len(split_line) == 6:\n",
    "            if 'values' not in line:\n",
    "                stock_data.append(line)\n",
    "    \n",
    "    return stock_data"
   ]
  },
  {
   "cell_type": "markdown",
   "metadata": {},
   "source": [
    "# Getting and foratting data"
   ]
  },
  {
   "cell_type": "code",
   "execution_count": 15,
   "metadata": {
    "collapsed": false
   },
   "outputs": [],
   "source": [
    "company=\"Ebay\"\n",
    "time='10y'\n",
    "stock_data=graph_data(company,time)\n",
    "date, closep, highp, lowp, openp, volume = np.loadtxt(stock_data,\n",
    "                                                      delimiter=',',unpack=True)\n",
    "def string_to_matplotdates(date_list,fmt):\n",
    "    dates=[]\n",
    "    for d in date_list:\n",
    "        dates.append(dt.datetime.strptime(str(int(d)),'%Y%m%d'))\n",
    "    dates = mdates.date2num(dates)  \n",
    "    return dates\n",
    "date=string_to_matplotdates(date,'%Y%m%d')"
   ]
  },
  {
   "cell_type": "code",
   "execution_count": 1,
   "metadata": {
    "collapsed": false
   },
   "outputs": [
    {
     "ename": "NameError",
     "evalue": "name 'plt' is not defined",
     "output_type": "error",
     "traceback": [
      "\u001b[1;31m---------------------------------------------------------------------------\u001b[0m",
      "\u001b[1;31mNameError\u001b[0m                                 Traceback (most recent call last)",
      "\u001b[1;32m<ipython-input-1-b3a6977dc5ba>\u001b[0m in \u001b[0;36m<module>\u001b[1;34m()\u001b[0m\n\u001b[1;32m----> 1\u001b[1;33m \u001b[0mfig\u001b[0m\u001b[1;33m=\u001b[0m\u001b[0mplt\u001b[0m\u001b[1;33m.\u001b[0m\u001b[0mfigure\u001b[0m\u001b[1;33m(\u001b[0m\u001b[1;33m)\u001b[0m\u001b[1;33m\u001b[0m\u001b[0m\n\u001b[0m\u001b[0;32m      2\u001b[0m \u001b[0max1\u001b[0m\u001b[1;33m=\u001b[0m\u001b[0mplt\u001b[0m\u001b[1;33m.\u001b[0m\u001b[0msubplot2grid\u001b[0m\u001b[1;33m(\u001b[0m\u001b[1;33m(\u001b[0m\u001b[1;36m1\u001b[0m\u001b[1;33m,\u001b[0m\u001b[1;36m1\u001b[0m\u001b[1;33m)\u001b[0m\u001b[1;33m,\u001b[0m\u001b[1;33m(\u001b[0m\u001b[1;36m0\u001b[0m\u001b[1;33m,\u001b[0m\u001b[1;36m0\u001b[0m\u001b[1;33m)\u001b[0m\u001b[1;33m)\u001b[0m\u001b[1;33m\u001b[0m\u001b[0m\n\u001b[0;32m      3\u001b[0m \u001b[0max1\u001b[0m\u001b[1;33m.\u001b[0m\u001b[0mplot_date\u001b[0m\u001b[1;33m(\u001b[0m\u001b[0mdate\u001b[0m\u001b[1;33m,\u001b[0m\u001b[0mclosep\u001b[0m\u001b[1;33m,\u001b[0m\u001b[1;34m'-'\u001b[0m\u001b[1;33m,\u001b[0m\u001b[0mlabel\u001b[0m\u001b[1;33m=\u001b[0m\u001b[0mcompany\u001b[0m\u001b[1;33m+\u001b[0m\u001b[1;34m\" stock price\"\u001b[0m\u001b[1;33m,\u001b[0m\u001b[0mcolor\u001b[0m\u001b[1;33m=\u001b[0m\u001b[1;34m\"b\"\u001b[0m\u001b[1;33m)\u001b[0m\u001b[1;33m\u001b[0m\u001b[0m\n\u001b[0;32m      4\u001b[0m \u001b[1;32mfor\u001b[0m \u001b[0mlabel\u001b[0m \u001b[1;32min\u001b[0m \u001b[0max1\u001b[0m\u001b[1;33m.\u001b[0m\u001b[0mxaxis\u001b[0m\u001b[1;33m.\u001b[0m\u001b[0mget_ticklabels\u001b[0m\u001b[1;33m(\u001b[0m\u001b[1;33m)\u001b[0m\u001b[1;33m:\u001b[0m\u001b[1;33m\u001b[0m\u001b[0m\n\u001b[0;32m      5\u001b[0m     \u001b[0mlabel\u001b[0m\u001b[1;33m.\u001b[0m\u001b[0mset_rotation\u001b[0m\u001b[1;33m(\u001b[0m\u001b[1;36m45\u001b[0m\u001b[1;33m)\u001b[0m\u001b[1;33m\u001b[0m\u001b[0m\n",
      "\u001b[1;31mNameError\u001b[0m: name 'plt' is not defined"
     ]
    }
   ],
   "source": [
    "fig=plt.figure()\n",
    "ax1=plt.subplot2grid((1,1),(0,0))\n",
    "ax1.plot_date(date,closep,'-',label=company+\" stock price\",color=\"b\")\n",
    "for label in ax1.xaxis.get_ticklabels():\n",
    "    label.set_rotation(45)\n",
    "ax1.grid(True)#,color='g',linestyle='-',linewidth=4)\n",
    "ax1.xaxis.label.set_color(\"c\")\n",
    "ax1.yaxis.label.set_color(\"r\")\n",
    "ax1.set_yticks([0,20,50,75])\n",
    "plt.xlabel(\"Date\")\n",
    "plt.ylabel(\"Price\")\n",
    "plt.title(\"Stock\")\n",
    "plt.legend()\n",
    "plt.subplots_adjust(left=0.09,bottom=0.20,right=0.94,top=0.90\n",
    "                   ,wspace=0.2,hspace=0)\n",
    "plt.show()"
   ]
  },
  {
   "cell_type": "markdown",
   "metadata": {},
   "source": [
    "# Grid and filling"
   ]
  },
  {
   "cell_type": "code",
   "execution_count": 3,
   "metadata": {
    "collapsed": false
   },
   "outputs": [
    {
     "ename": "NameError",
     "evalue": "name 'date' is not defined",
     "output_type": "error",
     "traceback": [
      "\u001b[1;31m---------------------------------------------------------------------------\u001b[0m",
      "\u001b[1;31mNameError\u001b[0m                                 Traceback (most recent call last)",
      "\u001b[1;32m<ipython-input-3-209281533f3f>\u001b[0m in \u001b[0;36m<module>\u001b[1;34m()\u001b[0m\n\u001b[0;32m      1\u001b[0m \u001b[0mfig\u001b[0m\u001b[1;33m=\u001b[0m\u001b[0mplt\u001b[0m\u001b[1;33m.\u001b[0m\u001b[0mfigure\u001b[0m\u001b[1;33m(\u001b[0m\u001b[1;33m)\u001b[0m\u001b[1;33m\u001b[0m\u001b[0m\n\u001b[0;32m      2\u001b[0m \u001b[0max1\u001b[0m\u001b[1;33m=\u001b[0m\u001b[0mplt\u001b[0m\u001b[1;33m.\u001b[0m\u001b[0msubplot2grid\u001b[0m\u001b[1;33m(\u001b[0m\u001b[1;33m(\u001b[0m\u001b[1;36m1\u001b[0m\u001b[1;33m,\u001b[0m\u001b[1;36m1\u001b[0m\u001b[1;33m)\u001b[0m\u001b[1;33m,\u001b[0m\u001b[1;33m(\u001b[0m\u001b[1;36m0\u001b[0m\u001b[1;33m,\u001b[0m\u001b[1;36m0\u001b[0m\u001b[1;33m)\u001b[0m\u001b[1;33m)\u001b[0m\u001b[1;33m\u001b[0m\u001b[0m\n\u001b[1;32m----> 3\u001b[1;33m \u001b[0max1\u001b[0m\u001b[1;33m.\u001b[0m\u001b[0mplot_date\u001b[0m\u001b[1;33m(\u001b[0m\u001b[0mdate\u001b[0m\u001b[1;33m,\u001b[0m\u001b[0mclosep\u001b[0m\u001b[1;33m,\u001b[0m\u001b[1;34m'-'\u001b[0m\u001b[1;33m,\u001b[0m\u001b[0mcolor\u001b[0m\u001b[1;33m=\u001b[0m\u001b[1;34m\"b\"\u001b[0m\u001b[1;33m)\u001b[0m\u001b[1;33m\u001b[0m\u001b[0m\n\u001b[0m\u001b[0;32m      4\u001b[0m \u001b[0max1\u001b[0m\u001b[1;33m.\u001b[0m\u001b[0mplot_date\u001b[0m\u001b[1;33m(\u001b[0m\u001b[1;33m[\u001b[0m\u001b[1;33m]\u001b[0m\u001b[1;33m,\u001b[0m\u001b[1;33m[\u001b[0m\u001b[1;33m]\u001b[0m\u001b[1;33m,\u001b[0m\u001b[1;34m'-'\u001b[0m\u001b[1;33m,\u001b[0m\u001b[0mlabel\u001b[0m\u001b[1;33m=\u001b[0m\u001b[0mcompany\u001b[0m\u001b[1;33m+\u001b[0m\u001b[1;34m\" Loss stock price\"\u001b[0m\u001b[1;33m,\u001b[0m\u001b[0mcolor\u001b[0m\u001b[1;33m=\u001b[0m\u001b[1;34m\"g\"\u001b[0m\u001b[1;33m,\u001b[0m\u001b[0mlinewidth\u001b[0m\u001b[1;33m=\u001b[0m\u001b[1;36m3\u001b[0m\u001b[1;33m)\u001b[0m\u001b[1;33m\u001b[0m\u001b[0m\n\u001b[0;32m      5\u001b[0m \u001b[0max1\u001b[0m\u001b[1;33m.\u001b[0m\u001b[0mplot_date\u001b[0m\u001b[1;33m(\u001b[0m\u001b[1;33m[\u001b[0m\u001b[1;33m]\u001b[0m\u001b[1;33m,\u001b[0m\u001b[1;33m[\u001b[0m\u001b[1;33m]\u001b[0m\u001b[1;33m,\u001b[0m\u001b[1;34m'-'\u001b[0m\u001b[1;33m,\u001b[0m\u001b[0mlabel\u001b[0m\u001b[1;33m=\u001b[0m\u001b[0mcompany\u001b[0m\u001b[1;33m+\u001b[0m\u001b[1;34m\" Profit stock price\"\u001b[0m\u001b[1;33m,\u001b[0m\u001b[0mcolor\u001b[0m\u001b[1;33m=\u001b[0m\u001b[1;34m\"r\"\u001b[0m\u001b[1;33m,\u001b[0m\u001b[0mlinewidth\u001b[0m\u001b[1;33m=\u001b[0m\u001b[1;36m3\u001b[0m\u001b[1;33m)\u001b[0m\u001b[1;33m\u001b[0m\u001b[0m\n",
      "\u001b[1;31mNameError\u001b[0m: name 'date' is not defined"
     ]
    }
   ],
   "source": [
    "fig=plt.figure()\n",
    "ax1=plt.subplot2grid((1,1),(0,0))\n",
    "ax1.plot_date(date,closep,'-',color=\"b\")\n",
    "ax1.plot_date([],[],'-',label=company+\" Loss stock price\",color=\"g\",linewidth=3)\n",
    "ax1.plot_date([],[],'-',label=company+\" Profit stock price\",color=\"r\",linewidth=3)\n",
    "\n",
    "ax1.fill_between(date,closep,closep[0],where=(closep>closep[0]),alpha=0.5,color=\"g\")#initial price\n",
    "ax1.fill_between(date,closep,closep[0],where=(closep<closep[0]),alpha=0.5,color=\"r\")\n",
    "\n",
    "\n",
    "for label in ax1.xaxis.get_ticklabels():\n",
    "    label.set_rotation(45)\n",
    "ax1.grid(True)#,color='g',linestyle='-',linewidth=4)\n",
    "ax1.xaxis.label.set_color(\"c\")\n",
    "ax1.yaxis.label.set_color(\"r\")\n",
    "ax1.set_yticks([0,20,50,75])\n",
    "plt.xlabel(\"Date\")\n",
    "plt.ylabel(\"Price\")\n",
    "plt.title(\"Stock\")\n",
    "plt.legend()\n",
    "plt.subplots_adjust(left=0.09,bottom=0.20,right=0.94,top=0.90\n",
    "                   ,wspace=0.2,hspace=0)\n",
    "plt.show()"
   ]
  },
  {
   "cell_type": "markdown",
   "metadata": {},
   "source": [
    "# Spines and horizontal Lines"
   ]
  },
  {
   "cell_type": "code",
   "execution_count": 23,
   "metadata": {
    "collapsed": false
   },
   "outputs": [],
   "source": [
    "##please set data of 10y to get proper visual\n",
    "fig=plt.figure()\n",
    "ax1=plt.subplot2grid((1,1),(0,0))\n",
    "ax1.plot_date(date,closep,'-',color=\"b\")\n",
    "ax1.plot_date([],[],'-',label=company+\" Loss stock price\",color=\"g\",linewidth=3)\n",
    "ax1.plot_date([],[],'-',label=company+\" Profit stock price\",color=\"r\",linewidth=3)\n",
    "for label in ax1.xaxis.get_ticklabels():\n",
    "    label.set_rotation(45)\n",
    "ax1.grid(True)#,color='g',linestyle='-',linewidth=4)\n",
    "\n",
    "#Showing partition into loss and profit sales\n",
    "ax1.axhline(closep[0],color=\"k\",linewidth=4)\n",
    "ax1.fill_between(date,closep,closep[0],where=(closep>closep[0]),alpha=0.5,color=\"g\")#initial price\n",
    "ax1.fill_between(date,closep,closep[0],where=(closep<closep[0]),alpha=0.5,color=\"r\")\n",
    "\n",
    "\n",
    "#Showing borders of the matplotlib graph\n",
    "ax1.spines[\"left\"].set_color(\"c\")\n",
    "ax1.spines[\"right\"].set_visible(False)\n",
    "ax1.spines[\"top\"].set_visible(False)\n",
    "ax1.spines[\"left\"].set_linewidth(5)\n",
    "\n",
    "#coloring the values of axis points\n",
    "ax1.tick_params(axis=\"x\",colors=\"#ee1c1c\")\n",
    "ax1.tick_params(axis=\"y\",colors=\"#afe5aa\")\n",
    "\n",
    "\n",
    "ax1.set_yticks([0,20,50])\n",
    "plt.xlabel(\"Date\")\n",
    "plt.ylabel(\"Price\")\n",
    "plt.title(\"Stock\")\n",
    "plt.legend()\n",
    "plt.subplots_adjust(left=0.09,bottom=0.20,right=0.94,top=0.90\n",
    "                   ,wspace=0.2,hspace=0)\n",
    "plt.show()\n"
   ]
  },
  {
   "cell_type": "markdown",
   "metadata": {},
   "source": [
    "# USE OF CANDLESTICK"
   ]
  },
  {
   "cell_type": "code",
   "execution_count": 22,
   "metadata": {
    "collapsed": false
   },
   "outputs": [],
   "source": [
    "##please set data of 1m to get proper visual\n",
    "import matplotlib.ticker as mticker\n",
    "from matplotlib.finance import candlestick_ohlc\n",
    "fig=plt.figure()\n",
    "ax1=plt.subplot2grid((1,1),(0,0))\n",
    "\n",
    "#Main code\n",
    "x=0\n",
    "y=len(date)\n",
    "ohlc=[]\n",
    "while x<y:\n",
    "    append_me=date[x],openp[x],highp[x],lowp[x],closep[x],volume[x]\n",
    "    ohlc.append(append_me)\n",
    "    x+=1\n",
    "    \n",
    "candlestick_ohlc(ax1,ohlc,width=0.4,colorup='g',colordown='r')\n",
    "\n",
    "ax1.xaxis.set_major_formatter(mdates.DateFormatter('%Y-%m-%d'))#formating date\n",
    "ax1.xaxis.set_major_locator(mticker.MaxNLocator(6))#no of pints in axis\n",
    "\n",
    "\n",
    "\n",
    "for label in ax1.xaxis.get_ticklabels():\n",
    "    label.set_rotation(45)\n",
    "ax1.grid(True)\n",
    "plt.xlabel(\"Date\")\n",
    "plt.ylabel(\"Price\")\n",
    "plt.title(\"Stock\")\n",
    "#plt.legend()\n",
    "plt.subplots_adjust(left=0.09,bottom=0.20,right=0.94,top=0.90,wspace=0.2,hspace=0)\n",
    "plt.show()"
   ]
  },
  {
   "cell_type": "markdown",
   "metadata": {},
   "source": [
    "# Creating style sheet just like HTML stylesheet(so we can apply in every subplot easily)"
   ]
  },
  {
   "cell_type": "code",
   "execution_count": 20,
   "metadata": {
    "collapsed": false
   },
   "outputs": [
    {
     "name": "stdout",
     "output_type": "stream",
     "text": [
      "[u'seaborn-darkgrid', u'seaborn-notebook', u'classic', u'seaborn-ticks', u'grayscale', u'bmh', u'seaborn-talk', u'dark_background', u'ggplot', u'fivethirtyeight', u'seaborn-colorblind', u'seaborn-deep', u'seaborn-whitegrid', u'seaborn-bright', u'seaborn-poster', u'seaborn-muted', u'seaborn-paper', u'seaborn-white', u'seaborn-pastel', u'seaborn-dark', u'seaborn-dark-palette']\n"
     ]
    }
   ],
   "source": [
    "from matplotlib import style\n",
    "\n",
    "style_in_matplot=plt.style.available\n",
    "\n",
    "style.use(str(style_in_matplot[5]))\n",
    "print(plt.style.available)\n",
    "fig=plt.figure()\n",
    "ax1=plt.subplot2grid((1,1),(0,0))\n",
    "\n",
    "\n",
    "ax1.plot_date(date,closep,'-')\n",
    "ax1.plot_date(date,openp,'-')\n",
    "\n",
    "for label in ax1.xaxis.get_ticklabels():\n",
    "    label.set_rotation(45)\n",
    "ax1.grid(True)\n",
    "plt.xlabel(\"Date\")\n",
    "plt.ylabel(\"Price\")\n",
    "plt.title(\"Stock\")\n",
    "plt.legend()\n",
    "plt.subplots_adjust(left=0.09,bottom=0.20,right=0.94,top=0.90,wspace=0.2,hspace=0)\n",
    "plt.show()"
   ]
  },
  {
   "cell_type": "markdown",
   "metadata": {},
   "source": [
    "# Adding text and annotation(with arrow)"
   ]
  },
  {
   "cell_type": "code",
   "execution_count": 35,
   "metadata": {
    "collapsed": false
   },
   "outputs": [],
   "source": [
    "##please set data of 1m to get proper visual\n",
    "from matplotlib import style\n",
    "style_in_matplot=plt.style.available\n",
    "style.use(str(style_in_matplot[12]))\n",
    "\n",
    "fig=plt.figure()\n",
    "ax1=plt.subplot2grid((1,1),(0,0))\n",
    "x=0\n",
    "y=len(date)\n",
    "ohlc=[]\n",
    "while x<y:\n",
    "    append_me=date[x],openp[x],highp[x],lowp[x],closep[x],volume[x]\n",
    "    ohlc.append(append_me)\n",
    "    x+=1\n",
    "candlestick_ohlc(ax1,ohlc,width=0.4,colorup='g',colordown='r')\n",
    "\n",
    "ax1.xaxis.set_major_formatter(mdates.DateFormatter('%Y-%m-%d'))\n",
    "ax1.xaxis.set_major_locator(mticker.MaxNLocator(6))\n",
    "for label in ax1.xaxis.get_ticklabels():\n",
    "    label.set_rotation(45)\n",
    "ax1.grid(True)\n",
    "\n",
    "#Main area\n",
    "ax1.annotate(\"Big news\",(date[11],highp[11]),\n",
    "            xytext=(0.8,0.9),textcoords='axes fraction',color=\"blue\"\n",
    "            ,arrowprops=dict(color=\"grey\"))\n",
    "\n",
    "font_dict={'family':'serif',\n",
    "          \"color\":\"darkred\",\n",
    "          \"size\":10}\n",
    "\n",
    "ax1.text(date[10],closep[1],\"Text Example\",fontdict=font_dict)\n",
    "\n",
    "\n",
    "\n",
    "plt.xlabel(\"Date\")\n",
    "plt.ylabel(\"Price\")\n",
    "plt.title(\"Stock\")\n",
    "#plt.legend()\n",
    "plt.subplots_adjust(left=0.09,bottom=0.20,right=0.94,top=0.90,wspace=0.2,hspace=0)\n",
    "plt.show()"
   ]
  },
  {
   "cell_type": "markdown",
   "metadata": {},
   "source": [
    "# Aannotation other example(with shapes)"
   ]
  },
  {
   "cell_type": "code",
   "execution_count": 21,
   "metadata": {
    "collapsed": false
   },
   "outputs": [],
   "source": [
    "##please set data of 1m to get proper visual\n",
    "from matplotlib import style\n",
    "style_in_matplot=plt.style.available\n",
    "style.use(str(style_in_matplot[12]))\n",
    "\n",
    "fig=plt.figure()\n",
    "ax1=plt.subplot2grid((1,1),(0,0))\n",
    "x=0\n",
    "y=len(date)\n",
    "ohlc=[]\n",
    "while x<y:\n",
    "    append_me=date[x],openp[x],highp[x],lowp[x],closep[x],volume[x]\n",
    "    ohlc.append(append_me)\n",
    "    x+=1\n",
    "candlestick_ohlc(ax1,ohlc,width=0.4,colorup='g',colordown='r')\n",
    "\n",
    "ax1.xaxis.set_major_formatter(mdates.DateFormatter('%Y-%m-%d'))\n",
    "ax1.xaxis.set_major_locator(mticker.MaxNLocator(6))\n",
    "for label in ax1.xaxis.get_ticklabels():\n",
    "    label.set_rotation(45)\n",
    "ax1.grid(True)\n",
    "\n",
    "#Main area\n",
    "bbox_props = dict(boxstyle=\"larrow,pad=0.3\", fc=\"cyan\", ec=\"b\", lw=2)#More box http://matplotlib.org/users/annotations_guide.html\n",
    "\n",
    "ax1.annotate(\"Last closing\\n price:$\"+str(closep[-1]),(date[-1],closep[-1]),\n",
    "            xytext=(date[-1]+4,closep[-1]),color=\"blue\",\n",
    "            bbox=bbox_props)\n",
    "\n",
    "\n",
    "\n",
    "\n",
    "\n",
    "plt.xlabel(\"Date\")\n",
    "plt.ylabel(\"Price\")\n",
    "plt.title(\"Stock\")\n",
    "#plt.legend()\n",
    "plt.subplots_adjust(left=0.11,bottom=0.24,right=0.84,top=0.90,wspace=0.2,hspace=0)\n",
    "plt.show()"
   ]
  },
  {
   "cell_type": "code",
   "execution_count": 1,
   "metadata": {
    "collapsed": false
   },
   "outputs": [
    {
     "data": {
      "text/plain": [
       "'C:\\\\Users\\\\RSB\\\\Anaconda2\\\\envs\\\\dato-env\\\\lib\\\\site-packages\\\\numpy\\\\__init__.pyc'"
      ]
     },
     "execution_count": 1,
     "metadata": {},
     "output_type": "execute_result"
    }
   ],
   "source": [
    "import numpy\n",
    "\n",
    "print numpy.__file__ "
   ]
  },
  {
   "cell_type": "code",
   "execution_count": null,
   "metadata": {
    "collapsed": true
   },
   "outputs": [],
   "source": []
  }
 ],
 "metadata": {
  "kernelspec": {
   "display_name": "Python 2",
   "language": "python",
   "name": "python2"
  },
  "language_info": {
   "codemirror_mode": {
    "name": "ipython",
    "version": 2
   },
   "file_extension": ".py",
   "mimetype": "text/x-python",
   "name": "python",
   "nbconvert_exporter": "python",
   "pygments_lexer": "ipython2",
   "version": "2.7.10"
  }
 },
 "nbformat": 4,
 "nbformat_minor": 0
}
