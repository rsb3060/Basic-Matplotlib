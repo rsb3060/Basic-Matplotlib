{
 "cells": [
  {
   "cell_type": "code",
   "execution_count": 5,
   "metadata": {
    "collapsed": true
   },
   "outputs": [],
   "source": [
    "import matplotlib.pyplot as plt\n",
    "import numpy as np \n",
    "import random\n",
    "from matplotlib import style\n",
    "style_in_matplot=plt.style.available\n",
    "style.use(str(style_in_matplot[5]))"
   ]
  },
  {
   "cell_type": "code",
   "execution_count": 2,
   "metadata": {
    "collapsed": true
   },
   "outputs": [],
   "source": [
    "def create_plots():\n",
    "    xs=[]\n",
    "    ys=[]\n",
    "    for i in range(5):\n",
    "        x=i\n",
    "        y=random.randrange(10)\n",
    "        xs.append(x)\n",
    "        ys.append(y)\n",
    "    return xs,ys\n"
   ]
  },
  {
   "cell_type": "code",
   "execution_count": 58,
   "metadata": {
    "collapsed": false
   },
   "outputs": [],
   "source": [
    "\n",
    "fig=plt.figure()\n",
    "#First two integer ij gives a matrix and last element show the index\n",
    "#e.g 32 gives 6 so whole plot is divided into 6 slot 323 means 3 slot out of 6\n",
    "#32 means divide the whole plain into 3 horizontal plot and \n",
    "#then dividing each plot into two\n",
    "ax1=fig.add_subplot(322)\n",
    "x,y=create_plots()\n",
    "ax1.plot(x,y,'-',label=\"axis1\")\n",
    "plt.legend()\n",
    "ax3=fig.add_subplot(312)\n",
    "x,y=create_plots()\n",
    "ax3.plot(x,y,label=\"x3\")\n",
    "plt.legend()\n",
    "ax2=fig.add_subplot(339)\n",
    "x,y=create_plots()\n",
    "ax2.plot(x,y,label=\"x2\")\n",
    "plt.legend()\n",
    "plt.show()"
   ]
  },
  {
   "cell_type": "code",
   "execution_count": 70,
   "metadata": {
    "collapsed": false
   },
   "outputs": [],
   "source": [
    "fig=plt.figure()\n",
    "ax1=plt.subplot2grid((6,1),(0,0),rowspan=2,colspan=1)\n",
    "x,y=create_plots()\n",
    "ax1.plot(x,y,'-',label=\"axis1\")\n",
    "plt.legend()\n",
    "ax2=plt.subplot2grid((6,2),(2,1),rowspan=1,colspan=1)\n",
    "x,y=create_plots()\n",
    "ax2.plot(x,y,'-',label=\"axis2\")\n",
    "plt.legend()\n",
    "ax2=plt.subplot2grid((6,1),(4,0),rowspan=2,colspan=1)\n",
    "x,y=create_plots()\n",
    "ax2.plot(x,y,'-',label=\"axis3\")\n",
    "plt.legend()\n",
    "plt.show()"
   ]
  },
  {
   "cell_type": "code",
   "execution_count": 6,
   "metadata": {
    "collapsed": true
   },
   "outputs": [],
   "source": [
    "import urllib\n",
    "def graph_data(stock,time):\n",
    "    stock_price_url = 'http://chartapi.finance.yahoo.com/instrument/1.0/'+stock+'/chartdata;type=quote;range='+time+'/csv'\n",
    "\n",
    "    source_code = urllib.urlopen(stock_price_url).read().decode()\n",
    "\n",
    "    stock_data = []\n",
    "    split_source = source_code.split('\\n')\n",
    "\n",
    "    for line in split_source:\n",
    "        split_line = line.split(',')\n",
    "        if len(split_line) == 6:\n",
    "            if 'values' not in line:\n",
    "                stock_data.append(line)\n",
    "    \n",
    "    return stock_data"
   ]
  },
  {
   "cell_type": "code",
   "execution_count": 25,
   "metadata": {
    "collapsed": false
   },
   "outputs": [],
   "source": [
    "\n",
    "import matplotlib.dates as mdates\n",
    "import time\n",
    "import datetime as dt \n",
    "company=\"GOOG\"\n",
    "time='10y'\n",
    "stock_data=graph_data(company,time)\n",
    "date, closep, highp, lowp, openp, volume = np.loadtxt(stock_data,\n",
    "                                                      delimiter=',',unpack=True)\n",
    "def string_to_matplotdates(date_list,fmt):\n",
    "    dates=[]\n",
    "    for d in date_list:\n",
    "        dates.append(dt.datetime.strptime(str(int(d)),'%Y%m%d'))\n",
    "    dates = mdates.date2num(dates)  \n",
    "    return dates\n",
    "date=string_to_matplotdates(date,'%Y%m%d')"
   ]
  },
  {
   "cell_type": "code",
   "execution_count": null,
   "metadata": {
    "collapsed": true
   },
   "outputs": [],
   "source": [
    "def moving_average(values,window):\n",
    "    weights=np.repeat(1.0,window)/window\n",
    "    smas=np.convolve(values,weights,'valid')\n",
    "    return smas\n",
    "def high_minus_low(highs,lows):\n",
    "    if type(highs)==list:\n",
    "        return list(map(high_minus_low,a,b))\n",
    "    else:\n",
    "        return highs-lows"
   ]
  },
  {
   "cell_type": "code",
   "execution_count": 81,
   "metadata": {
    "collapsed": false,
    "scrolled": false
   },
   "outputs": [],
   "source": [
    "##please set data of 1m to get proper visual\n",
    "import matplotlib.ticker as mticker\n",
    "from matplotlib.finance import candlestick_ohlc\n",
    "fig=plt.figure(facecolor=\"#30a2da\")\n",
    "\n",
    "#Subplot 1 defined\n",
    "ax1=plt.subplot2grid((6,1),(0,0),rowspan=1,colspan=1)\n",
    "plt.title(company)\n",
    "plt.ylabel(\"H-L\")\n",
    "\n",
    "\n",
    "#Major function call for plotting in subplot 1\n",
    "\n",
    "h_l=high_minus_low(highp,lowp)\n",
    "ax1.plot_date(date,h_l,'-',label=\"High-Low\")\n",
    "\n",
    "\n",
    "#For better viewing purpose in subplot 1\n",
    "\n",
    "ax1.yaxis.set_major_locator(mticker.MaxNLocator(nbins=3))#No. of pints in y axis\n",
    "plt.setp(ax1.get_xticklabels(),visible=False)#dont show the x labels of graph 1\n",
    "\n",
    "ax1.legend()\n",
    "leg=ax1.legend(loc=9,ncol=1,prop={\"size\":10})#customising legend\n",
    "leg.get_frame().set_alpha(0.4)\n",
    "\n",
    "\n",
    "#Subplot 2 defined\n",
    "ax2=plt.subplot2grid((6,1),(1,0),rowspan=4,colspan=1,sharex=ax1)#sharing x -axis with ax1\n",
    "plt.ylabel(\"Price\")\n",
    "ax2v=ax2.twinx()#for purpose of showing different value in same chart ignoring y values or scaling as per previous x-values\n",
    "\n",
    "#Major function call for plotting in subplot 2\n",
    "\n",
    "x=0\n",
    "y=len(date)\n",
    "ohlc=[]\n",
    "while x<y:\n",
    "    append_me=date[x],openp[x],highp[x],lowp[x],closep[x],volume[x]\n",
    "    ohlc.append(append_me)\n",
    "    x+=1\n",
    "\n",
    "candlestick_ohlc(ax2,ohlc,width=0.4,colorup='g',colordown='r')\n",
    "\n",
    "\n",
    "#For better viewing purpose in subplot 2\n",
    "bbox_props = dict(boxstyle=\"round,pad=0.1\", fc=\"cyan\", ec=\"b\", lw=1,alpha=0.3)#More box http://matplotlib.org/users/annotations_guide.html\n",
    "ax2.annotate(\"$\"+str(closep[-1]),(date[-1],closep[-1]),#position pointing to\n",
    "            xytext=(date[-1],closep[-1])#original position of text\n",
    "             ,color=\"blue\",bbox=bbox_props)\n",
    "    \n",
    "\n",
    "ax2.yaxis.set_major_locator(mticker.MaxNLocator(nbins=7,prune=\"upper\") )\n",
    "plt.setp(ax2.get_xticklabels(),visible=False)  \n",
    "\n",
    "\n",
    "ax2v.fill_between(date,0,volume,facecolor=\"#0079a3\",alpha=0.3)#showing volume in the same chart\n",
    "\n",
    "ax2v.plot([],[],color=\"#0079a3\",alpha=0.3,label=\"Volume\")#for viewing pupose as we cannot label in fill\n",
    "ax2v.axes.yaxis.set_ticklabels([])#for not showing y axis label in right side\n",
    "ax2v.set_ylim(0,3*volume.max())#for making the volume spikes reasonably small\n",
    "ax2v.grid(False)\n",
    "\n",
    "ax2v.legend()\n",
    "leg=ax2v.legend(loc=9,ncol=1,prop={\"size\":10})#customising legend\n",
    "leg.get_frame().set_alpha(0.4)\n",
    "ax2.grid(True)\n",
    "\n",
    "\n",
    "#Subplot 3 defined\n",
    "ax3=plt.subplot2grid((6,1),(5,0),rowspan=1,colspan=1,sharex=ax1)#sharing x -axis with ax1\n",
    "plt.ylabel(\"Mov avg\")\n",
    "\n",
    "#Major function call for plotting in subplot 3\n",
    "\n",
    "MA1=10\n",
    "MA2=30\n",
    "ma1=moving_average(closep,MA1)\n",
    "ma2=moving_average(closep,MA2)\n",
    "start=len(date[MA2-1:])\n",
    "\n",
    "ax3.plot(date[-start:],ma1[-start:],linewidth=1,label=str(MA1)+\"MA\")\n",
    "ax3.plot(date[-start:],ma2[-start:],linewidth=1,label=str(MA2)+\"MA\")\n",
    "ax3.fill_between(date[-start:],ma2[-start:],ma1[-start:],where=(ma2[-start:]>ma1[-start:]),facecolor=\"red\",\n",
    "                edgecolor='r',alpha=0.5)\n",
    "ax3.fill_between(date[-start:],ma2[-start:],ma1[-start:],where=(ma2[-start:]<ma1[-start:]),facecolor=\"green\",\n",
    "                edgecolor='g',alpha=0.5)\n",
    "  \n",
    "    \n",
    "#For better viewing purpose in subplot 3\n",
    "\n",
    "ax3.xaxis.set_major_formatter(mdates.DateFormatter('%Y-%m-%d'))#formating date\n",
    "ax3.xaxis.set_major_locator(mticker.MaxNLocator(nbins=7))#no of pints in axis x\n",
    "ax3.yaxis.set_major_locator(mticker.MaxNLocator(nbins=3,prune=\"upper\"))#no of pints in axis y                        \n",
    "plt.xlabel(\"Date\")\n",
    "\n",
    "for label in ax3.xaxis.get_ticklabels():\n",
    "    label.set_rotation(45)\n",
    "    \n",
    "ax3.legend()\n",
    "leg=ax3.legend(loc=9,ncol=2,prop={\"size\":10})#ncol=2 gives two column for two labels\n",
    "leg.get_frame().set_alpha(0.4)\n",
    "\n",
    "\n",
    "plt.subplots_adjust(left=0.09,bottom=0.20,right=0.94,top=0.90,wspace=0.2,hspace=0)\n",
    "\n",
    "plt.show()\n",
    "fig.savefig(\"google.png\",facecolor='#30a2da')"
   ]
  },
  {
   "cell_type": "code",
   "execution_count": 16,
   "metadata": {
    "collapsed": false
   },
   "outputs": [],
   "source": []
  },
  {
   "cell_type": "code",
   "execution_count": 77,
   "metadata": {
    "collapsed": false
   },
   "outputs": [
    {
     "name": "stdout",
     "output_type": "stream",
     "text": [
      "C:\\Users\\RSB\\Anaconda2\\envs\\dato-env\\lib\\site-packages\\matplotlib\\pyplot.pyc\n"
     ]
    }
   ],
   "source": [
    "print plt.__file__"
   ]
  },
  {
   "cell_type": "code",
   "execution_count": null,
   "metadata": {
    "collapsed": true
   },
   "outputs": [],
   "source": []
  }
 ],
 "metadata": {
  "kernelspec": {
   "display_name": "Python 2",
   "language": "python",
   "name": "python2"
  },
  "language_info": {
   "codemirror_mode": {
    "name": "ipython",
    "version": 2
   },
   "file_extension": ".py",
   "mimetype": "text/x-python",
   "name": "python",
   "nbconvert_exporter": "python",
   "pygments_lexer": "ipython2",
   "version": "2.7.10"
  }
 },
 "nbformat": 4,
 "nbformat_minor": 0
}
