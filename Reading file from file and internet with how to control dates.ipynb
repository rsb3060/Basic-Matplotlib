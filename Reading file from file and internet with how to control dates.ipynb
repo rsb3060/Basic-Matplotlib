{
 "cells": [
  {
   "cell_type": "code",
   "execution_count": 1,
   "metadata": {
    "collapsed": true
   },
   "outputs": [],
   "source": [
    "import matplotlib.pyplot as plt\n",
    "import csv\n",
    "import numpy as np\n",
    "import urllib\n",
    "import matplotlib.dates as mdates\n",
    "import time\n",
    "import datetime as dt "
   ]
  },
  {
   "cell_type": "code",
   "execution_count": 7,
   "metadata": {
    "collapsed": false
   },
   "outputs": [],
   "source": [
    "x=[]\n",
    "y=[]\n",
    "with open(\"author_list.xlsx\",\"rb\") as csvfile:\n",
    "    plots=csv.reader(csvfile)"
   ]
  },
  {
   "cell_type": "code",
   "execution_count": 11,
   "metadata": {
    "collapsed": false
   },
   "outputs": [],
   "source": [
    "plt.plot(x,y,label=\"Loaded from file\",color=\"r\")\n",
    "plt.xlabel(\"Plot Number\")\n",
    "plt.ylabel(\"Important Var\")\n",
    "plt.title(\"Satarting matplotlib\\nCheck it out\")\n",
    "plt.legend()\n",
    "plt.show()"
   ]
  },
  {
   "cell_type": "code",
   "execution_count": 8,
   "metadata": {
    "collapsed": false
   },
   "outputs": [
    {
     "ename": "ValueError",
     "evalue": "I/O operation on closed file",
     "output_type": "error",
     "traceback": [
      "\u001b[1;31m---------------------------------------------------------------------------\u001b[0m",
      "\u001b[1;31mValueError\u001b[0m                                Traceback (most recent call last)",
      "\u001b[1;32m<ipython-input-8-402ae4db1fe0>\u001b[0m in \u001b[0;36m<module>\u001b[1;34m()\u001b[0m\n\u001b[1;32m----> 1\u001b[1;33m \u001b[0mplots\u001b[0m\u001b[1;33m.\u001b[0m\u001b[0mnext\u001b[0m\u001b[1;33m(\u001b[0m\u001b[1;33m)\u001b[0m\u001b[1;33m\u001b[0m\u001b[0m\n\u001b[0m",
      "\u001b[1;31mValueError\u001b[0m: I/O operation on closed file"
     ]
    }
   ],
   "source": [
    "plots"
   ]
  },
  {
   "cell_type": "code",
   "execution_count": 13,
   "metadata": {
    "collapsed": false
   },
   "outputs": [],
   "source": [
    "x,y=np.loadtxt(\"file_load.txt\",delimiter=\",\",unpack=True)"
   ]
  },
  {
   "cell_type": "code",
   "execution_count": 15,
   "metadata": {
    "collapsed": true
   },
   "outputs": [],
   "source": [
    "plt.plot(x,y,label=\"Loaded from file\",color=\"b\")\n",
    "plt.xlabel(\"Plot Number\")\n",
    "plt.ylabel(\"Important Var\")\n",
    "plt.title(\"Satarting matplotlib\\nCheck it out\")\n",
    "plt.legend()\n",
    "plt.show()"
   ]
  },
  {
   "cell_type": "code",
   "execution_count": 13,
   "metadata": {
    "collapsed": false
   },
   "outputs": [],
   "source": [
    "def graph_data(stock):\n",
    "    stock_price_url = 'http://chartapi.finance.yahoo.com/instrument/1.0/'+stock+'/chartdata;type=quote;range=10y/csv'\n",
    "\n",
    "    source_code = urllib.urlopen(stock_price_url).read().decode()\n",
    "\n",
    "    stock_data = []\n",
    "    split_source = source_code.split('\\n')\n",
    "\n",
    "    for line in split_source:\n",
    "        split_line = line.split(',')\n",
    "        if len(split_line) == 6:\n",
    "            if 'values' not in line:\n",
    "                stock_data.append(line)\n",
    "    \n",
    "    return stock_data"
   ]
  },
  {
   "cell_type": "code",
   "execution_count": 14,
   "metadata": {
    "collapsed": false
   },
   "outputs": [],
   "source": [
    "stock_data=graph_data(\"TSLA\")\n"
   ]
  },
  {
   "cell_type": "code",
   "execution_count": 15,
   "metadata": {
    "collapsed": false
   },
   "outputs": [],
   "source": [
    "date, closep, highp, lowp, openp, volume = np.loadtxt(stock_data,\n",
    "                                                          delimiter=',',unpack=True)"
   ]
  },
  {
   "cell_type": "code",
   "execution_count": 16,
   "metadata": {
    "collapsed": false
   },
   "outputs": [],
   "source": [
    "def string_to_matplotdates(date_list,fmt):\n",
    "    dates=[]\n",
    "    for d in date_list:\n",
    "        dates.append(dt.datetime.strptime(str(int(d)),'%Y%m%d'))\n",
    "    dates = mdates.date2num(dates)  \n",
    "    return dates\n",
    "date=string_to_matplotdates(date,'%Y%m%d')"
   ]
  },
  {
   "cell_type": "code",
   "execution_count": 17,
   "metadata": {
    "collapsed": false
   },
   "outputs": [],
   "source": [
    "plt.plot_date(date,closep,'-',label=\"TSLA stock price\",color=\"b\")\n",
    "plt.xlabel(\"Date\")\n",
    "plt.ylabel(\"Price\")\n",
    "plt.title(\"Satarting matplotlib\\nCheck it out\")\n",
    "plt.legend()\n",
    "plt.show()"
   ]
  },
  {
   "cell_type": "code",
   "execution_count": null,
   "metadata": {
    "collapsed": false
   },
   "outputs": [],
   "source": [
    "fig=plt.figure()\n",
    "ax1=plt.subplot2grid((1,1),(0,0))\n",
    "ax1.plot_date(date,closep,'-',label=\"TSLA stock price\",color=\"b\")\n",
    "for label in ax1.xaxis.get_ticklabels():\n",
    "    label.set_rotation(45)\n",
    "ax1.grid(True)#,color='g',linestyle='-',linewidth=4)\n",
    "plt.xlabel(\"Date\")\n",
    "plt.ylabel(\"Price\")\n",
    "plt.title(\"Satarting matplotlib\\nCheck it out\")\n",
    "plt.legend()\n",
    "plt.subplots_adjust(left=0.09,bottom=0.20,right=0.94,top=0.90\n",
    "                   ,wspace=0.2,hspace=0)\n",
    "plt.show()"
   ]
  },
  {
   "cell_type": "code",
   "execution_count": null,
   "metadata": {
    "collapsed": true
   },
   "outputs": [],
   "source": [
    "#The unix time conversion for data in days"
   ]
  },
  {
   "cell_type": "code",
   "execution_count": 2,
   "metadata": {
    "collapsed": false
   },
   "outputs": [],
   "source": [
    "def graph_data_in_days(stock):\n",
    "    stock_price_url = 'http://chartapi.finance.yahoo.com/instrument/1.0/'+stock+'/chartdata;type=quote;range=10d/csv'\n",
    "\n",
    "    source_code = urllib.urlopen(stock_price_url).read().decode()\n",
    "\n",
    "    stock_data = []\n",
    "    split_source = source_code.split('\\n')\n",
    "\n",
    "    for line in split_source:\n",
    "        split_line = line.split(',')\n",
    "        if len(split_line) == 6:\n",
    "            if 'values' not in line:\n",
    "                stock_data.append(line)\n",
    "    \n",
    "    return stock_data"
   ]
  },
  {
   "cell_type": "code",
   "execution_count": 18,
   "metadata": {
    "collapsed": false
   },
   "outputs": [],
   "source": [
    "stock_data_day=graph_data_in_days(\"TSLA\")"
   ]
  },
  {
   "cell_type": "code",
   "execution_count": 63,
   "metadata": {
    "collapsed": false
   },
   "outputs": [],
   "source": [
    "date, closep, highp, lowp, openp, volume = np.loadtxt(stock_data_day,\n",
    "                                                          delimiter=',',unpack=True)"
   ]
  },
  {
   "cell_type": "code",
   "execution_count": 37,
   "metadata": {
    "collapsed": false
   },
   "outputs": [
    {
     "data": {
      "text/plain": [
       "array([  1.46919444e+09,   1.46919474e+09,   1.46919505e+09,\n",
       "         1.46919534e+09,   1.46919564e+09])"
      ]
     },
     "execution_count": 37,
     "metadata": {},
     "output_type": "execute_result"
    }
   ],
   "source": [
    "date[0:5]"
   ]
  },
  {
   "cell_type": "code",
   "execution_count": 64,
   "metadata": {
    "collapsed": false
   },
   "outputs": [],
   "source": [
    "#Method 1\n",
    "#dateconv=np.vectorize(dt.datetime.fromtimestamp)\n",
    "#date=dateconv(date)\n",
    "#or Method 2\n",
    "def unix_to_matplotdates(unix_date_list):\n",
    "    dates=[]\n",
    "    for d in unix_date_list:\n",
    "        dates.append(dt.datetime.fromtimestamp(float(d)))\n",
    "    dates = mdates.date2num(dates) \n",
    "    return dates\n",
    "date=unix_to_matplotdates(date)   "
   ]
  },
  {
   "cell_type": "code",
   "execution_count": 34,
   "metadata": {
    "collapsed": false
   },
   "outputs": [
    {
     "data": {
      "text/plain": [
       "datetime.datetime(2016, 8, 5, 12, 13, 47, 989000)"
      ]
     },
     "execution_count": 34,
     "metadata": {},
     "output_type": "execute_result"
    }
   ],
   "source": [
    "dt.datetime.fromtimestamp(example)"
   ]
  },
  {
   "cell_type": "code",
   "execution_count": 66,
   "metadata": {
    "collapsed": false
   },
   "outputs": [],
   "source": [
    "fig=plt.figure()\n",
    "ax1=plt.subplot2grid((1,1),(0,0))\n",
    "ax1.plot_date(date,closep,'-',label=\"TSLA stock price\",color=\"b\")\n",
    "for label in ax1.xaxis.get_ticklabels():\n",
    "    label.set_rotation(45)\n",
    "ax1.grid(True)#,color='g',linestyle='-',linewidth=4)\n",
    "plt.xlabel(\"Date\")\n",
    "plt.ylabel(\"Price\")\n",
    "plt.title(\"Satarting matplotlib\\nCheck it out\")\n",
    "plt.legend()\n",
    "plt.subplots_adjust(left=0.09,bottom=0.20,right=0.94,top=0.90\n",
    "                   ,wspace=0.2,hspace=0)\n",
    "plt.show()"
   ]
  },
  {
   "cell_type": "code",
   "execution_count": null,
   "metadata": {
    "collapsed": false
   },
   "outputs": [],
   "source": []
  },
  {
   "cell_type": "code",
   "execution_count": null,
   "metadata": {
    "collapsed": true
   },
   "outputs": [],
   "source": []
  }
 ],
 "metadata": {
  "kernelspec": {
   "display_name": "Python 2",
   "language": "python",
   "name": "python2"
  },
  "language_info": {
   "codemirror_mode": {
    "name": "ipython",
    "version": 2
   },
   "file_extension": ".py",
   "mimetype": "text/x-python",
   "name": "python",
   "nbconvert_exporter": "python",
   "pygments_lexer": "ipython2",
   "version": "2.7.10"
  }
 },
 "nbformat": 4,
 "nbformat_minor": 0
}
