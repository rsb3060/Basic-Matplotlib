{
 "cells": [
  {
   "cell_type": "code",
   "execution_count": 1,
   "metadata": {
    "collapsed": true
   },
   "outputs": [],
   "source": [
    "from mpl_toolkits.basemap import Basemap\n",
    "import matplotlib.pyplot as plt\n",
    "import numpy as np"
   ]
  },
  {
   "cell_type": "code",
   "execution_count": 2,
   "metadata": {
    "collapsed": false
   },
   "outputs": [],
   "source": [
    "m=Basemap(projection=\"mill\")\n",
    "m.drawcoastlines()\n",
    "m.fillcontinents()\n",
    "plt.title(\"Basemap Tutorials\")\n",
    "plt.show()"
   ]
  },
  {
   "cell_type": "code",
   "execution_count": 31,
   "metadata": {
    "collapsed": true
   },
   "outputs": [],
   "source": [
    "m = Basemap(projection='ortho',lon_0=-105,lat_0=40,resolution='l')\n",
    "m.drawcoastlines()\n",
    "m.fillcontinents(color='coral',lake_color='aqua')\n",
    "# draw parallels and meridians.\n",
    "m.drawparallels(np.arange(-90.,120.,30.))\n",
    "m.drawmeridians(np.arange(0.,420.,60.))\n",
    "m.drawmapboundary(fill_color='aqua')\n",
    "plt.title(\"Full Disk Orthographic Projection\")\n",
    "plt.show()"
   ]
  },
  {
   "cell_type": "code",
   "execution_count": 21,
   "metadata": {
    "collapsed": false
   },
   "outputs": [],
   "source": [
    "m=Basemap(projection=\"mill\",llcrnrlat=-40,llcrnrlon=-40,urcrnrlat=50,\n",
    "         urcrnrlon=75,resolution='l')\n",
    "#FUL MAP m=Basemap(projection=\"mill\",llcrnrlat=-90,llcrnrlon=-180,urcrnrlat=90,\n",
    " #        urcrnrlon=180,resolution='l')\n",
    "m.drawcoastlines()\n",
    "m.drawcountries(linewidth=2)\n",
    "m.etopo()\n",
    "plt.title(\"Basemap Tutorials\")\n",
    "plt.show()"
   ]
  },
  {
   "cell_type": "code",
   "execution_count": 29,
   "metadata": {
    "collapsed": false
   },
   "outputs": [],
   "source": [
    "m=Basemap(projection=\"mill\",llcrnrlat=-90,llcrnrlon=-90,urcrnrlat=90,\n",
    "         urcrnrlon=90,resolution='l')\n",
    "m.drawcoastlines()\n",
    "m.drawcountries(linewidth=2)\n",
    "#m.drawstates(color=\"b\")\n",
    "#m.etopo()\n",
    "#m.drawrivers(color=\"skyblue\")\n",
    "m.bluemarble()\n",
    "plt.title(\"Basemap Tutorials\")\n",
    "plt.show()"
   ]
  },
  {
   "cell_type": "code",
   "execution_count": 2,
   "metadata": {
    "collapsed": false
   },
   "outputs": [],
   "source": [
    "m=Basemap(projection=\"mill\",llcrnrlat=25,llcrnrlon=-130,urcrnrlat=50,\n",
    "         urcrnrlon=-60,resolution='l')\n",
    "m.drawcoastlines()\n",
    "m.drawcountries(linewidth=2)\n",
    "m.drawstates(color=\"b\")\n",
    "#m.etopo()\n",
    "#m.drawrivers(color=\"skyblue\")\n",
    "#m.bluemarble()\n",
    "xs=[]\n",
    "ys=[]\n",
    "NYClat,NYClon=40.7127,-74.0059\n",
    "xpt,ypt=m(NYClon,NYClat)\n",
    "xs.append(xpt)\n",
    "ys.append(ypt)\n",
    "m.plot(xpt,ypt,'y*',markersize=10)\n",
    "LAlat,LAlon=34.05,-118.25\n",
    "xpt,ypt=m(LAlon,LAlat)\n",
    "xs.append(xpt)\n",
    "ys.append(ypt)\n",
    "m.plot(xpt,ypt,'g*',markersize=10)\n",
    "m.plot(xs,ys,'-',c=\"r\",label=\"Flight 98\",linewidth=3)\n",
    "m.drawgreatcircle(NYClon,NYClat,LAlon,LAlat,color='c',linewidth=3,label=\"Flight arc\")\n",
    "plt.title(\"Basemap Tutorials\")\n",
    "plt.legend(loc=4)\n",
    "plt.show()"
   ]
  },
  {
   "cell_type": "code",
   "execution_count": 4,
   "metadata": {
    "collapsed": true
   },
   "outputs": [],
   "source": [
    "m=Basemap(projection=\"mill\",llcrnrlat=25,llcrnrlon=-130,urcrnrlat=50,\n",
    "         urcrnrlon=-60,resolution='l')\n",
    "m.drawcoastlines()\n",
    "m.drawcountries(linewidth=2)\n",
    "m.drawstates(color=\"b\")\n",
    "#m.etopo()\n",
    "#m.drawrivers(color=\"skyblue\")\n",
    "#m.bluemarble()\n",
    "xs=[]\n",
    "ys=[]\n",
    "NYClat,NYClon=40.7127,-74.0059\n",
    "xpt,ypt=m(NYClon,NYClat)\n",
    "xs.append(xpt)\n",
    "ys.append(ypt)\n",
    "m.plot(xpt,ypt,'y*',markersize=10)\n",
    "LAlat,LAlon=40.7127,-118.25\n",
    "xpt,ypt=m(LAlon,LAlat)\n",
    "xs.append(xpt)\n",
    "ys.append(ypt)\n",
    "m.plot(xpt,ypt,'g*',markersize=10)\n",
    "m.plot(xs,ys,'-',c=\"r\",label=\"Flight 98\",linewidth=3)\n",
    "m.drawgreatcircle(NYClon,NYClat,LAlon,LAlat,color='c',linewidth=3,label=\"Flight arc\")\n",
    "plt.title(\"Basemap Tutorials\")\n",
    "plt.legend(loc=4)\n",
    "plt.show()"
   ]
  },
  {
   "cell_type": "code",
   "execution_count": null,
   "metadata": {
    "collapsed": true
   },
   "outputs": [],
   "source": []
  }
 ],
 "metadata": {
  "kernelspec": {
   "display_name": "Python 2",
   "language": "python",
   "name": "python2"
  },
  "language_info": {
   "codemirror_mode": {
    "name": "ipython",
    "version": 2
   },
   "file_extension": ".py",
   "mimetype": "text/x-python",
   "name": "python",
   "nbconvert_exporter": "python",
   "pygments_lexer": "ipython2",
   "version": "2.7.10"
  }
 },
 "nbformat": 4,
 "nbformat_minor": 0
}
